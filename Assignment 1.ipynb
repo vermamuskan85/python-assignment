{
 "cells": [
  {
   "cell_type": "raw",
   "id": "3e1292b9",
   "metadata": {},
   "source": [
    "In the below elements which of them are values or an expression? eg:- values can be\n",
    "integer or string and expressions will be mathematical operators.\n",
    "\n",
    "  *     - an expression\n",
    " hello  -values (string)\n",
    " 87.8   -values(float)\n",
    "  -      -an expression\n",
    "  /      -an expression\n",
    "  +      -an expression\n",
    "  6      -values(integer)\n",
    "\n",
    "\n"
   ]
  },
  {
   "cell_type": "raw",
   "id": "116878bc",
   "metadata": {},
   "source": [
    " 2. What is the difference between string and variable?\n",
    "\n",
    " string- string is data which we hold within \"\" or ''\n",
    "     eg  str=\"hello\"\n",
    " variable-it is something that holds a value which can vary\n",
    "     eg   a=10\n",
    "     eg   a=20 , here a is a variable"
   ]
  },
  {
   "cell_type": "raw",
   "id": "6d33f8ac",
   "metadata": {},
   "source": [
    "3. Describe three different data types.\n",
    " \n",
    " 1 string- it is a data which we hold within \"\" or ''\n",
    "   eg  str=\"muskan\"\n",
    " 2 integer-it is a whole number.\n",
    "  eg - 2\n",
    " 3 float-it is a decimal number.\n",
    "   eg  10.5"
   ]
  },
  {
   "cell_type": "raw",
   "id": "7ea00a47",
   "metadata": {},
   "source": [
    "4. What is an expression made up of? What do all expressions do?\n",
    "\n",
    " Expression is made up of mathematical operators.\n",
    " Expression help in computing the given data ."
   ]
  },
  {
   "cell_type": "raw",
   "id": "1ef8861d",
   "metadata": {},
   "source": [
    "5.This assignment statements, like spam = 10. What is the difference between an\n",
    "expression and a statement?\n",
    "\n",
    "Expression is made up of variables,operations and values that gives a result.\n",
    "Statments are commands that are to be followed."
   ]
  },
  {
   "cell_type": "raw",
   "id": "d3f4531c",
   "metadata": {},
   "source": [
    "6. After running the following code, what does the variable bacon contain?\n",
    "bacon = 22\n",
    "bacon + 1\n",
    "bacon=22\n",
    "bacon+1"
   ]
  },
  {
   "cell_type": "raw",
   "id": "03a6ac2b",
   "metadata": {},
   "source": [
    "7. What should the values of the following two terms be?\n",
    "\n",
    "  'spam'+'spamspam' \n",
    "    'spamspamspam'\n",
    "  'spam'*3\n",
    "   'spamspamspam'"
   ]
  },
  {
   "cell_type": "raw",
   "id": "065c1819",
   "metadata": {},
   "source": [
    "8. Why is eggs a valid variable name while 100 is invalid?\n",
    "\n",
    " egg is a valid variable because its value can change.\n",
    "  eg eggs=10 \n",
    "  eg eggs=25\n",
    " while 100 is invalid variable because 100 cannot hold any other value other than 100\n",
    " "
   ]
  },
  {
   "cell_type": "raw",
   "id": "93de281f",
   "metadata": {},
   "source": [
    "9. What three functions can be used to get the integer, floating-point number, or string\n",
    "version of a value?\n",
    "\n",
    "1  print()\n",
    "2  type()\n",
    "3  input()"
   ]
  },
  {
   "cell_type": "raw",
   "id": "91de241d",
   "metadata": {},
   "source": [
    "10. Why does this expression cause an error? How can you fix it?\n",
    "'I have eaten'  + 99 +  'burritos'\n",
    "\n",
    "This expression will cause an error because strings and integers cannot be added.\n",
    "we can fix this by converting integer 99 to a string '99'"
   ]
  }
 ],
 "metadata": {
  "kernelspec": {
   "display_name": "Python 3 (ipykernel)",
   "language": "python",
   "name": "python3"
  },
  "language_info": {
   "codemirror_mode": {
    "name": "ipython",
    "version": 3
   },
   "file_extension": ".py",
   "mimetype": "text/x-python",
   "name": "python",
   "nbconvert_exporter": "python",
   "pygments_lexer": "ipython3",
   "version": "3.9.7"
  }
 },
 "nbformat": 4,
 "nbformat_minor": 5
}
